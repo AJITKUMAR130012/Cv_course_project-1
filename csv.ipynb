{
 "cells": [
  {
   "cell_type": "code",
   "execution_count": 23,
   "metadata": {},
   "outputs": [],
   "source": [
    "import os\n",
    "import random\n",
    "import numpy as np\n",
    "import pandas as pd"
   ]
  },
  {
   "cell_type": "code",
   "execution_count": 7,
   "metadata": {},
   "outputs": [],
   "source": [
    "dir_list=[\"./Abhimanyu/\",\"./Alok/\", \"./Dhriti/\", \"./Narendra/\", \"./Sayan/\", \"./Yogesh/\",\"./Ajit/\", \"./Neha/\",\"./Yogeshwer/\"]"
   ]
  },
  {
   "cell_type": "code",
   "execution_count": 13,
   "metadata": {},
   "outputs": [],
   "source": [
    "t=[]\n",
    "for dir  in dir_list:\n",
    "  l=os.listdir(dir)\n",
    "  for img_path in l:\n",
    "    length=len(l)\n",
    "    t.append(img_path)\n",
    "    id=random.randint(0, length-1)\n",
    "    t.append(l[id])\n",
    "    random_dir_number=random.randint(0,len(dir_list)-1)\n",
    "    while(dir_list[random_dir_number]==dir):\n",
    "        random_dir_number=random.randint(0,len(dir_list)-1)\n",
    "\n",
    "  \n",
    "    dirw=dir_list[random_dir_number]\n",
    "    n=os.listdir(dirw)\n",
    "    random_img=random.randint(0,len(n)-1)\n",
    "    t.append(n[random_img])\n",
    "    # break\n",
    "\n",
    "\n",
    "    # full_img_path=dir+img_path\n",
    "    # #print(full_img_path)\n",
    "    # img= cv2.imread(full_img_path)\n",
    "    # plt.imshow(img)\n",
    "    # plt.show()\n",
    "    # break"
   ]
  },
  {
   "cell_type": "code",
   "execution_count": 14,
   "metadata": {},
   "outputs": [
    {
     "data": {
      "text/plain": [
       "2700"
      ]
     },
     "execution_count": 14,
     "metadata": {},
     "output_type": "execute_result"
    }
   ],
   "source": [
    "len(t)"
   ]
  },
  {
   "cell_type": "code",
   "execution_count": 15,
   "metadata": {},
   "outputs": [],
   "source": [
    "def to_matrix(l, n):\n",
    "    return [l[i:i+n] for i in range(0, len(l), n)]"
   ]
  },
  {
   "cell_type": "code",
   "execution_count": 16,
   "metadata": {},
   "outputs": [],
   "source": [
    "\n",
    "m=to_matrix(t,3)"
   ]
  },
  {
   "cell_type": "code",
   "execution_count": 19,
   "metadata": {},
   "outputs": [
    {
     "data": {
      "text/plain": [
       "dtype('<U17')"
      ]
     },
     "execution_count": 19,
     "metadata": {},
     "output_type": "execute_result"
    }
   ],
   "source": [
    "c=np.array(m)\n",
    "c.dtype"
   ]
  },
  {
   "cell_type": "code",
   "execution_count": 20,
   "metadata": {},
   "outputs": [
    {
     "data": {
      "text/plain": [
       "(900, 3)"
      ]
     },
     "execution_count": 20,
     "metadata": {},
     "output_type": "execute_result"
    }
   ],
   "source": [
    "c.shape"
   ]
  },
  {
   "cell_type": "code",
   "execution_count": 24,
   "metadata": {},
   "outputs": [],
   "source": [
    "df=pd.DataFrame(data=c,columns=['Anchor','Positive','Negative'])"
   ]
  },
  {
   "cell_type": "code",
   "execution_count": 25,
   "metadata": {},
   "outputs": [
    {
     "data": {
      "text/html": [
       "<div>\n",
       "<style scoped>\n",
       "    .dataframe tbody tr th:only-of-type {\n",
       "        vertical-align: middle;\n",
       "    }\n",
       "\n",
       "    .dataframe tbody tr th {\n",
       "        vertical-align: top;\n",
       "    }\n",
       "\n",
       "    .dataframe thead th {\n",
       "        text-align: right;\n",
       "    }\n",
       "</style>\n",
       "<table border=\"1\" class=\"dataframe\">\n",
       "  <thead>\n",
       "    <tr style=\"text-align: right;\">\n",
       "      <th></th>\n",
       "      <th>Anchor</th>\n",
       "      <th>Positive</th>\n",
       "      <th>Negative</th>\n",
       "    </tr>\n",
       "  </thead>\n",
       "  <tbody>\n",
       "    <tr>\n",
       "      <th>0</th>\n",
       "      <td>Abhimanyu_3.jpg</td>\n",
       "      <td>Abhimanyu_48.jpg</td>\n",
       "      <td>Sayan_17.jpg</td>\n",
       "    </tr>\n",
       "    <tr>\n",
       "      <th>1</th>\n",
       "      <td>Abhimanyu_5.jpg</td>\n",
       "      <td>Abhimanyu_2.jpg</td>\n",
       "      <td>Sayan_5.jpg</td>\n",
       "    </tr>\n",
       "    <tr>\n",
       "      <th>2</th>\n",
       "      <td>Abhimanyu_8.jpg</td>\n",
       "      <td>Abhimanyu_93.jpg</td>\n",
       "      <td>Ajit_21.jpg</td>\n",
       "    </tr>\n",
       "    <tr>\n",
       "      <th>3</th>\n",
       "      <td>Abhimanyu_1.jpg</td>\n",
       "      <td>Abhimanyu_51.jpg</td>\n",
       "      <td>Sayan_68.jpg</td>\n",
       "    </tr>\n",
       "    <tr>\n",
       "      <th>4</th>\n",
       "      <td>Abhimanyu_10.jpg</td>\n",
       "      <td>Abhimanyu_68.jpg</td>\n",
       "      <td>Narendra_50.jpg</td>\n",
       "    </tr>\n",
       "    <tr>\n",
       "      <th>5</th>\n",
       "      <td>Abhimanyu_100.jpg</td>\n",
       "      <td>Abhimanyu_60.jpg</td>\n",
       "      <td>Alok_74.jpg</td>\n",
       "    </tr>\n",
       "    <tr>\n",
       "      <th>6</th>\n",
       "      <td>Abhimanyu_11.jpg</td>\n",
       "      <td>Abhimanyu_11.jpg</td>\n",
       "      <td>Sayan_74.jpg</td>\n",
       "    </tr>\n",
       "    <tr>\n",
       "      <th>7</th>\n",
       "      <td>Abhimanyu_12.jpg</td>\n",
       "      <td>Abhimanyu_62.jpg</td>\n",
       "      <td>Alok_76.jpg</td>\n",
       "    </tr>\n",
       "    <tr>\n",
       "      <th>8</th>\n",
       "      <td>Abhimanyu_13.jpg</td>\n",
       "      <td>Abhimanyu_19.jpg</td>\n",
       "      <td>Dhriti_13.jpg</td>\n",
       "    </tr>\n",
       "    <tr>\n",
       "      <th>9</th>\n",
       "      <td>Abhimanyu_14.jpg</td>\n",
       "      <td>Abhimanyu_86.jpg</td>\n",
       "      <td>Ajit_24.jpg</td>\n",
       "    </tr>\n",
       "  </tbody>\n",
       "</table>\n",
       "</div>"
      ],
      "text/plain": [
       "              Anchor          Positive         Negative\n",
       "0    Abhimanyu_3.jpg  Abhimanyu_48.jpg     Sayan_17.jpg\n",
       "1    Abhimanyu_5.jpg   Abhimanyu_2.jpg      Sayan_5.jpg\n",
       "2    Abhimanyu_8.jpg  Abhimanyu_93.jpg      Ajit_21.jpg\n",
       "3    Abhimanyu_1.jpg  Abhimanyu_51.jpg     Sayan_68.jpg\n",
       "4   Abhimanyu_10.jpg  Abhimanyu_68.jpg  Narendra_50.jpg\n",
       "5  Abhimanyu_100.jpg  Abhimanyu_60.jpg      Alok_74.jpg\n",
       "6   Abhimanyu_11.jpg  Abhimanyu_11.jpg     Sayan_74.jpg\n",
       "7   Abhimanyu_12.jpg  Abhimanyu_62.jpg      Alok_76.jpg\n",
       "8   Abhimanyu_13.jpg  Abhimanyu_19.jpg    Dhriti_13.jpg\n",
       "9   Abhimanyu_14.jpg  Abhimanyu_86.jpg      Ajit_24.jpg"
      ]
     },
     "execution_count": 25,
     "metadata": {},
     "output_type": "execute_result"
    }
   ],
   "source": [
    "df.head(10)"
   ]
  },
  {
   "cell_type": "code",
   "execution_count": 26,
   "metadata": {},
   "outputs": [],
   "source": [
    "df.to_csv('face.csv')"
   ]
  },
  {
   "cell_type": "code",
   "execution_count": 27,
   "metadata": {},
   "outputs": [
    {
     "data": {
      "text/plain": [
       "(900, 3)"
      ]
     },
     "execution_count": 27,
     "metadata": {},
     "output_type": "execute_result"
    }
   ],
   "source": [
    "df.shape"
   ]
  },
  {
   "cell_type": "code",
   "execution_count": null,
   "metadata": {},
   "outputs": [],
   "source": []
  }
 ],
 "metadata": {
  "kernelspec": {
   "display_name": "conda-cv2",
   "language": "python",
   "name": "python3"
  },
  "language_info": {
   "codemirror_mode": {
    "name": "ipython",
    "version": 3
   },
   "file_extension": ".py",
   "mimetype": "text/x-python",
   "name": "python",
   "nbconvert_exporter": "python",
   "pygments_lexer": "ipython3",
   "version": "3.11.0"
  },
  "orig_nbformat": 4
 },
 "nbformat": 4,
 "nbformat_minor": 2
}
