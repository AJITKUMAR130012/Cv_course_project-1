{
 "cells": [
  {
   "cell_type": "code",
   "execution_count": 3,
   "metadata": {},
   "outputs": [],
   "source": [
    "import torch\n",
    "import torch.nn as nn  # All neural network modules, nn.Linear, nn.Conv2d, BatchNorm, Loss functions\n",
    "import torch.optim as optim  # For all Optimization algorithms, SGD, Adam, etc.\n",
    "import torchvision.transforms as transforms  # Transformations we can perform on our dataset\n",
    "import torchvision\n",
    "import os\n",
    "import pandas as pd\n",
    "from PIL import Image\n",
    "from torch.utils.data import (\n",
    "    Dataset,\n",
    "    DataLoader,\n",
    ")\n",
    "from torchvision.utils import save_image\n",
    "import os\n",
    "from skimage.io import imread, imshow"
   ]
  },
  {
   "cell_type": "code",
   "execution_count": 11,
   "metadata": {},
   "outputs": [],
   "source": [
    "path=\"./Yogeshwer\"\n",
    "img_list=os.listdir(path)"
   ]
  },
  {
   "cell_type": "code",
   "execution_count": 12,
   "metadata": {},
   "outputs": [],
   "source": [
    "class Face(Dataset):\n",
    "    def __init__(self, img_list,  root_dir, transform=None):\n",
    "        #self.annotations = pd.read_csv(csv_file)\n",
    "        self.img_list=img_list\n",
    "        self.root_dir = root_dir\n",
    "        self.transform = transform\n",
    "\n",
    "    def __len__(self):\n",
    "        return len(self.img_list)\n",
    "\n",
    "    def __getitem__(self, index):\n",
    "        img_path = os.path.join(self.root_dir, self.img_list[index])\n",
    "        image = Image.open(img_path)\n",
    "        #y_label = torch.tensor(int(self.annotations.iloc[index, 1]))\n",
    "\n",
    "        if self.transform:\n",
    "            image = self.transform(image)\n",
    "\n",
    "        return image\n"
   ]
  },
  {
   "cell_type": "code",
   "execution_count": 13,
   "metadata": {},
   "outputs": [],
   "source": [
    "my_transforms = transforms.Compose(\n",
    "    [  # Compose makes it possible to have many transforms\n",
    "        transforms.Resize((784, 784)),  # Resizes (32,32) to (36,36)\n",
    "        #transforms.RandomCrop((32, 32)),  # Takes a random (32,32) crop\n",
    "        transforms.ColorJitter(brightness=0.5),  # Change brightness of image\n",
    "        transforms.RandomRotation(\n",
    "            degrees=45\n",
    "        ),  # Perhaps a random rotation from -45 to 45 degrees\n",
    "        transforms.RandomHorizontalFlip(\n",
    "            p=0.5\n",
    "        ),  # Flips the image horizontally with probability 0.5\n",
    "        transforms.RandomVerticalFlip(\n",
    "            p=0.05\n",
    "        ),  # Flips image vertically with probability 0.05\n",
    "        transforms.RandomGrayscale(p=0.2),  # Converts to grayscale with probability 0.2\n",
    "        transforms.ToTensor(),  # Finally converts PIL image to tensor so we can train w. pytorch\n",
    "    ]\n",
    ")\n"
   ]
  },
  {
   "cell_type": "code",
   "execution_count": 14,
   "metadata": {},
   "outputs": [],
   "source": [
    "face=Face(img_list,path,transform=my_transforms)"
   ]
  },
  {
   "cell_type": "code",
   "execution_count": 15,
   "metadata": {},
   "outputs": [
    {
     "data": {
      "text/plain": [
       "5"
      ]
     },
     "execution_count": 15,
     "metadata": {},
     "output_type": "execute_result"
    }
   ],
   "source": [
    "len(face)"
   ]
  },
  {
   "cell_type": "code",
   "execution_count": 10,
   "metadata": {},
   "outputs": [],
   "source": [
    "name=\"Yogeshwer\"\n",
    "img_num=5\n",
    "for _ in range(20):\n",
    "    for img in face:\n",
    "        save_image(img, name+\"_\"+str(img_num)+'.jpg')\n",
    "        img_num+=1\n",
    "        "
   ]
  },
  {
   "cell_type": "code",
   "execution_count": null,
   "metadata": {},
   "outputs": [],
   "source": []
  }
 ],
 "metadata": {
  "kernelspec": {
   "display_name": "conda-cv2",
   "language": "python",
   "name": "python3"
  },
  "language_info": {
   "codemirror_mode": {
    "name": "ipython",
    "version": 3
   },
   "file_extension": ".py",
   "mimetype": "text/x-python",
   "name": "python",
   "nbconvert_exporter": "python",
   "pygments_lexer": "ipython3",
   "version": "3.10.9"
  },
  "orig_nbformat": 4
 },
 "nbformat": 4,
 "nbformat_minor": 2
}
